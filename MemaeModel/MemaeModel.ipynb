{
 "cells": [
  {
   "cell_type": "code",
   "execution_count": 1,
   "metadata": {
    "colab": {
     "base_uri": "https://localhost:8080/"
    },
    "execution": {
     "iopub.execute_input": "2022-11-05T01:55:42.888655Z",
     "iopub.status.busy": "2022-11-05T01:55:42.888354Z",
     "iopub.status.idle": "2022-11-05T01:55:43.426824Z",
     "shell.execute_reply": "2022-11-05T01:55:43.425944Z",
     "shell.execute_reply.started": "2022-11-05T01:55:42.888594Z"
    },
    "executionInfo": {
     "elapsed": 8,
     "status": "ok",
     "timestamp": 1666765027041,
     "user": {
      "displayName": "yatoyun",
      "userId": "15627685972703479970"
     },
     "user_tz": -540
    },
    "id": "y4Sb6xDaCiMm",
    "outputId": "1ddf7b47-097c-46ad-9704-598e17ff023f",
    "tags": []
   },
   "outputs": [
    {
     "name": "stdout",
     "output_type": "stream",
     "text": [
      "Sat Nov  5 01:55:43 2022       \n",
      "+-----------------------------------------------------------------------------+\n",
      "| NVIDIA-SMI 510.73.05    Driver Version: 510.73.05    CUDA Version: 11.6     |\n",
      "|-------------------------------+----------------------+----------------------+\n",
      "| GPU  Name        Persistence-M| Bus-Id        Disp.A | Volatile Uncorr. ECC |\n",
      "| Fan  Temp  Perf  Pwr:Usage/Cap|         Memory-Usage | GPU-Util  Compute M. |\n",
      "|                               |                      |               MIG M. |\n",
      "|===============================+======================+======================|\n",
      "|   0  NVIDIA RTX A4000    Off  | 00000000:00:05.0 Off |                  Off |\n",
      "| 41%   41C    P8    15W / 140W |      0MiB / 16376MiB |      0%      Default |\n",
      "|                               |                      |                  N/A |\n",
      "+-------------------------------+----------------------+----------------------+\n",
      "                                                                               \n",
      "+-----------------------------------------------------------------------------+\n",
      "| Processes:                                                                  |\n",
      "|  GPU   GI   CI        PID   Type   Process name                  GPU Memory |\n",
      "|        ID   ID                                                   Usage      |\n",
      "|=============================================================================|\n",
      "|  No running processes found                                                 |\n",
      "+-----------------------------------------------------------------------------+\n"
     ]
    }
   ],
   "source": [
    "!nvidia-smi"
   ]
  },
  {
   "cell_type": "code",
   "execution_count": 2,
   "metadata": {
    "colab": {
     "base_uri": "https://localhost:8080/"
    },
    "execution": {
     "iopub.execute_input": "2022-11-05T01:55:43.428424Z",
     "iopub.status.busy": "2022-11-05T01:55:43.428230Z",
     "iopub.status.idle": "2022-11-05T01:57:33.440052Z",
     "shell.execute_reply": "2022-11-05T01:57:33.439224Z",
     "shell.execute_reply.started": "2022-11-05T01:55:43.428401Z"
    },
    "executionInfo": {
     "elapsed": 15520,
     "status": "ok",
     "timestamp": 1666765042556,
     "user": {
      "displayName": "yatoyun",
      "userId": "15627685972703479970"
     },
     "user_tz": -540
    },
    "id": "W6ePq_igAZnO",
    "outputId": "2a3d08bd-1553-4a86-8326-51950b296cee"
   },
   "outputs": [
    {
     "name": "stdout",
     "output_type": "stream",
     "text": [
      "Looking in indexes: https://pypi.org/simple, https://download.pytorch.org/whl/cu116\n",
      "Collecting torch==1.12.1+cu116\n",
      "  Downloading https://download.pytorch.org/whl/cu116/torch-1.12.1%2Bcu116-cp39-cp39-linux_x86_64.whl (1904.8 MB)\n",
      "\u001b[2K     \u001b[90m━━━━━━━━━━━━━━━━━━━━━━━━━━━━━━━━━━━━━━━━\u001b[0m \u001b[32m1.9/1.9 GB\u001b[0m \u001b[31m1.4 MB/s\u001b[0m eta \u001b[36m0:00:00\u001b[0m:00:01\u001b[0m00:02\u001b[0mm\n",
      "\u001b[?25hCollecting torchvision==0.13.1+cu116\n",
      "  Downloading https://download.pytorch.org/whl/cu116/torchvision-0.13.1%2Bcu116-cp39-cp39-linux_x86_64.whl (23.5 MB)\n",
      "\u001b[2K     \u001b[90m━━━━━━━━━━━━━━━━━━━━━━━━━━━━━━━━━━━━━━━━\u001b[0m \u001b[32m23.5/23.5 MB\u001b[0m \u001b[31m72.4 MB/s\u001b[0m eta \u001b[36m0:00:00\u001b[0m00:01\u001b[0m00:01\u001b[0m\n",
      "\u001b[?25hCollecting torchaudio==0.12.1\n",
      "  Downloading https://download.pytorch.org/whl/cu116/torchaudio-0.12.1%2Bcu116-cp39-cp39-linux_x86_64.whl (3.8 MB)\n",
      "\u001b[2K     \u001b[90m━━━━━━━━━━━━━━━━━━━━━━━━━━━━━━━━━━━━━━━━\u001b[0m \u001b[32m3.8/3.8 MB\u001b[0m \u001b[31m121.6 MB/s\u001b[0m eta \u001b[36m0:00:00\u001b[0m\n",
      "\u001b[?25hRequirement already satisfied: typing-extensions in /usr/local/lib/python3.9/dist-packages (from torch==1.12.1+cu116) (4.3.0)\n",
      "Requirement already satisfied: requests in /usr/local/lib/python3.9/dist-packages (from torchvision==0.13.1+cu116) (2.28.1)\n",
      "Requirement already satisfied: pillow!=8.3.*,>=5.3.0 in /usr/local/lib/python3.9/dist-packages (from torchvision==0.13.1+cu116) (9.2.0)\n",
      "Requirement already satisfied: numpy in /usr/local/lib/python3.9/dist-packages (from torchvision==0.13.1+cu116) (1.23.1)\n",
      "Requirement already satisfied: charset-normalizer<3,>=2 in /usr/local/lib/python3.9/dist-packages (from requests->torchvision==0.13.1+cu116) (2.1.0)\n",
      "Requirement already satisfied: idna<4,>=2.5 in /usr/lib/python3/dist-packages (from requests->torchvision==0.13.1+cu116) (2.8)\n",
      "Requirement already satisfied: certifi>=2017.4.17 in /usr/lib/python3/dist-packages (from requests->torchvision==0.13.1+cu116) (2019.11.28)\n",
      "Requirement already satisfied: urllib3<1.27,>=1.21.1 in /usr/local/lib/python3.9/dist-packages (from requests->torchvision==0.13.1+cu116) (1.26.10)\n",
      "Installing collected packages: torch, torchvision, torchaudio\n",
      "  Attempting uninstall: torch\n",
      "    Found existing installation: torch 1.12.0+cu116\n",
      "    Uninstalling torch-1.12.0+cu116:\n",
      "      Successfully uninstalled torch-1.12.0+cu116\n",
      "  Attempting uninstall: torchvision\n",
      "    Found existing installation: torchvision 0.13.0+cu116\n",
      "    Uninstalling torchvision-0.13.0+cu116:\n",
      "      Successfully uninstalled torchvision-0.13.0+cu116\n",
      "  Attempting uninstall: torchaudio\n",
      "    Found existing installation: torchaudio 0.12.0+cu116\n",
      "    Uninstalling torchaudio-0.12.0+cu116:\n",
      "      Successfully uninstalled torchaudio-0.12.0+cu116\n",
      "Successfully installed torch-1.12.1+cu116 torchaudio-0.12.1+cu116 torchvision-0.13.1+cu116\n",
      "\u001b[33mWARNING: Running pip as the 'root' user can result in broken permissions and conflicting behaviour with the system package manager. It is recommended to use a virtual environment instead: https://pip.pypa.io/warnings/venv\u001b[0m\u001b[33m\n",
      "\u001b[0mCollecting einops\n",
      "  Downloading einops-0.5.0-py3-none-any.whl (36 kB)\n",
      "Installing collected packages: einops\n",
      "Successfully installed einops-0.5.0\n",
      "\u001b[33mWARNING: Running pip as the 'root' user can result in broken permissions and conflicting behaviour with the system package manager. It is recommended to use a virtual environment instead: https://pip.pypa.io/warnings/venv\u001b[0m\u001b[33m\n",
      "\u001b[0m"
     ]
    }
   ],
   "source": [
    "!pip install torch==1.12.1+cu116 torchvision==0.13.1+cu116 torchaudio==0.12.1 --extra-index-url https://download.pytorch.org/whl/cu116\n",
    "#!pip install git+https://github.com/francois-rozet/piqa\n",
    "!pip install einops"
   ]
  },
  {
   "cell_type": "code",
   "execution_count": 3,
   "metadata": {
    "colab": {
     "base_uri": "https://localhost:8080/"
    },
    "execution": {
     "iopub.execute_input": "2022-11-05T01:57:33.441351Z",
     "iopub.status.busy": "2022-11-05T01:57:33.441175Z",
     "iopub.status.idle": "2022-11-05T01:57:37.157824Z",
     "shell.execute_reply": "2022-11-05T01:57:37.157043Z",
     "shell.execute_reply.started": "2022-11-05T01:57:33.441331Z"
    },
    "executionInfo": {
     "elapsed": 5859,
     "status": "ok",
     "timestamp": 1666765048405,
     "user": {
      "displayName": "yatoyun",
      "userId": "15627685972703479970"
     },
     "user_tz": -540
    },
    "id": "M8nbrsaiC2MT",
    "outputId": "91bfc2f9-b09b-4d3f-b04d-e9f86d515381"
   },
   "outputs": [
    {
     "name": "stdout",
     "output_type": "stream",
     "text": [
      "\u001b[33mWARNING: Skipping tb-nightly as it is not installed.\u001b[0m\u001b[33m\n",
      "\u001b[0mFound existing installation: tensorboard 2.9.1\n",
      "Uninstalling tensorboard-2.9.1:\n",
      "  Successfully uninstalled tensorboard-2.9.1\n",
      "\u001b[33mWARNING: Running pip as the 'root' user can result in broken permissions and conflicting behaviour with the system package manager. It is recommended to use a virtual environment instead: https://pip.pypa.io/warnings/venv\u001b[0m\u001b[33m\n",
      "\u001b[0mCollecting tensorboard==2.8\n",
      "  Downloading tensorboard-2.8.0-py3-none-any.whl (5.8 MB)\n",
      "\u001b[2K     \u001b[90m━━━━━━━━━━━━━━━━━━━━━━━━━━━━━━━━━━━━━━━━\u001b[0m \u001b[32m5.8/5.8 MB\u001b[0m \u001b[31m108.4 MB/s\u001b[0m eta \u001b[36m0:00:00\u001b[0m00:01\u001b[0m\n",
      "\u001b[?25hRequirement already satisfied: tensorboard-data-server<0.7.0,>=0.6.0 in /usr/local/lib/python3.9/dist-packages (from tensorboard==2.8) (0.6.1)\n",
      "Requirement already satisfied: wheel>=0.26 in /usr/local/lib/python3.9/dist-packages (from tensorboard==2.8) (0.35.1)\n",
      "Requirement already satisfied: grpcio>=1.24.3 in /usr/local/lib/python3.9/dist-packages (from tensorboard==2.8) (1.47.0)\n",
      "Requirement already satisfied: setuptools>=41.0.0 in /usr/local/lib/python3.9/dist-packages (from tensorboard==2.8) (63.1.0)\n",
      "Requirement already satisfied: absl-py>=0.4 in /usr/local/lib/python3.9/dist-packages (from tensorboard==2.8) (1.1.0)\n",
      "Requirement already satisfied: numpy>=1.12.0 in /usr/local/lib/python3.9/dist-packages (from tensorboard==2.8) (1.23.1)\n",
      "Requirement already satisfied: protobuf>=3.6.0 in /usr/local/lib/python3.9/dist-packages (from tensorboard==2.8) (3.19.4)\n",
      "Requirement already satisfied: markdown>=2.6.8 in /usr/local/lib/python3.9/dist-packages (from tensorboard==2.8) (3.3.7)\n",
      "Requirement already satisfied: werkzeug>=0.11.15 in /usr/local/lib/python3.9/dist-packages (from tensorboard==2.8) (2.1.2)\n",
      "Requirement already satisfied: google-auth-oauthlib<0.5,>=0.4.1 in /usr/local/lib/python3.9/dist-packages (from tensorboard==2.8) (0.4.6)\n",
      "Requirement already satisfied: google-auth<3,>=1.6.3 in /usr/local/lib/python3.9/dist-packages (from tensorboard==2.8) (2.9.0)\n",
      "Requirement already satisfied: requests<3,>=2.21.0 in /usr/local/lib/python3.9/dist-packages (from tensorboard==2.8) (2.28.1)\n",
      "Requirement already satisfied: tensorboard-plugin-wit>=1.6.0 in /usr/local/lib/python3.9/dist-packages (from tensorboard==2.8) (1.8.1)\n",
      "Requirement already satisfied: rsa<5,>=3.1.4 in /usr/lib/python3/dist-packages (from google-auth<3,>=1.6.3->tensorboard==2.8) (4.0)\n",
      "Requirement already satisfied: pyasn1-modules>=0.2.1 in /usr/local/lib/python3.9/dist-packages (from google-auth<3,>=1.6.3->tensorboard==2.8) (0.2.8)\n",
      "Requirement already satisfied: six>=1.9.0 in /usr/lib/python3/dist-packages (from google-auth<3,>=1.6.3->tensorboard==2.8) (1.14.0)\n",
      "Requirement already satisfied: cachetools<6.0,>=2.0.0 in /usr/local/lib/python3.9/dist-packages (from google-auth<3,>=1.6.3->tensorboard==2.8) (5.2.0)\n",
      "Requirement already satisfied: requests-oauthlib>=0.7.0 in /usr/local/lib/python3.9/dist-packages (from google-auth-oauthlib<0.5,>=0.4.1->tensorboard==2.8) (1.3.1)\n",
      "Requirement already satisfied: importlib-metadata>=4.4 in /usr/local/lib/python3.9/dist-packages (from markdown>=2.6.8->tensorboard==2.8) (4.12.0)\n",
      "Requirement already satisfied: certifi>=2017.4.17 in /usr/lib/python3/dist-packages (from requests<3,>=2.21.0->tensorboard==2.8) (2019.11.28)\n",
      "Requirement already satisfied: urllib3<1.27,>=1.21.1 in /usr/local/lib/python3.9/dist-packages (from requests<3,>=2.21.0->tensorboard==2.8) (1.26.10)\n",
      "Requirement already satisfied: charset-normalizer<3,>=2 in /usr/local/lib/python3.9/dist-packages (from requests<3,>=2.21.0->tensorboard==2.8) (2.1.0)\n",
      "Requirement already satisfied: idna<4,>=2.5 in /usr/lib/python3/dist-packages (from requests<3,>=2.21.0->tensorboard==2.8) (2.8)\n",
      "Requirement already satisfied: zipp>=0.5 in /usr/local/lib/python3.9/dist-packages (from importlib-metadata>=4.4->markdown>=2.6.8->tensorboard==2.8) (3.8.1)\n",
      "Requirement already satisfied: pyasn1<0.5.0,>=0.4.6 in /usr/local/lib/python3.9/dist-packages (from pyasn1-modules>=0.2.1->google-auth<3,>=1.6.3->tensorboard==2.8) (0.4.8)\n",
      "Requirement already satisfied: oauthlib>=3.0.0 in /usr/local/lib/python3.9/dist-packages (from requests-oauthlib>=0.7.0->google-auth-oauthlib<0.5,>=0.4.1->tensorboard==2.8) (3.2.0)\n",
      "Installing collected packages: tensorboard\n",
      "\u001b[31mERROR: pip's dependency resolver does not currently take into account all the packages that are installed. This behaviour is the source of the following dependency conflicts.\n",
      "tensorflow 2.9.1 requires tensorboard<2.10,>=2.9, but you have tensorboard 2.8.0 which is incompatible.\u001b[0m\u001b[31m\n",
      "\u001b[0mSuccessfully installed tensorboard-2.8.0\n",
      "\u001b[33mWARNING: Running pip as the 'root' user can result in broken permissions and conflicting behaviour with the system package manager. It is recommended to use a virtual environment instead: https://pip.pypa.io/warnings/venv\u001b[0m\u001b[33m\n",
      "\u001b[0m"
     ]
    }
   ],
   "source": [
    "# Load the TensorBoard notebook extension\n",
    "!pip uninstall tb-nightly tensorboard -y\n",
    "!pip install tensorboard==2.8"
   ]
  },
  {
   "cell_type": "code",
   "execution_count": null,
   "metadata": {},
   "outputs": [],
   "source": []
  },
  {
   "cell_type": "code",
   "execution_count": 7,
   "metadata": {
    "colab": {
     "background_save": true,
     "base_uri": "https://localhost:8080/"
    },
    "execution": {
     "iopub.execute_input": "2022-11-05T01:58:11.595230Z",
     "iopub.status.busy": "2022-11-05T01:58:11.594925Z",
     "iopub.status.idle": "2022-11-05T01:58:16.258563Z",
     "shell.execute_reply": "2022-11-05T01:58:16.257894Z",
     "shell.execute_reply.started": "2022-11-05T01:58:11.595207Z"
    },
    "id": "xGdDHSpE-78L"
   },
   "outputs": [
    {
     "name": "stdout",
     "output_type": "stream",
     "text": [
      "----------------- Options ---------------\n",
      "                BatchSize: 14                            \n",
      "                 DataRoot: ./dataset/                    \n",
      "                  Dataset: UCSD_P2_256                   \n",
      "        EntropyLossWeight: 0.0002                        \n",
      "                 EpochNum: 500                           \t[default: 100]\n",
      "                 FrameNum: 16                            \n",
      "                ImgChnNum: 1                             \n",
      "                  IsDeter: True                          \n",
      "                  IsTbLog: True                          \n",
      "                       LR: 0.0001                        \n",
      "                     Loss:                               \n",
      "                   MemDim: 2000                          \n",
      "                     Mode: train                         \n",
      "                ModelName: ssmctb                        \t[default: MemAE]\n",
      "                ModelRoot: ./models/                     \n",
      "             ModelSetting: Conv3DSpar                    \n",
      "                NumWorker: 1                             \n",
      "        SaveCheckInterval: 1                             \n",
      "                     Seed: 1                             \n",
      "              ShrinkThres: 0.0025                        \n",
      "             SnapInterval: 100                           \n",
      "                   Suffix: Non                           \n",
      "                  Summary: False                         \n",
      "         TBImgLogInterval: 200                           \n",
      "          TextLogInterval: 1                             \n",
      "                  UseCUDA: True                          \n",
      "               UseExModel: True                          \n",
      "----------------- End -------------------\n",
      "Wrong Model Name.\n",
      "Setting: \n",
      "bs=14, lr=0.000100, entrloss=0.000200, shr=0.002500, memdim=2000\n",
      "Traceback (most recent call last):\n",
      "  File \"/notebooks/Abnormal_detection/MemaeModel/script_training.py\", line 81, in <module>\n",
      "    transforms.RandomApply([color_jitter], p=0.8),\n",
      "NameError: name 'color_jitter' is not defined\n"
     ]
    }
   ],
   "source": [
    "!python script_training.py --EpochNum 500 --ModelName ssmctb #--UseExModel False #--Summary True "
   ]
  },
  {
   "cell_type": "code",
   "execution_count": 5,
   "metadata": {
    "execution": {
     "iopub.execute_input": "2022-11-05T01:57:46.081651Z",
     "iopub.status.busy": "2022-11-05T01:57:46.081492Z",
     "iopub.status.idle": "2022-11-05T01:57:50.677105Z",
     "shell.execute_reply": "2022-11-05T01:57:50.676495Z",
     "shell.execute_reply.started": "2022-11-05T01:57:46.081631Z"
    },
    "id": "ik1B-lrnDIqR"
   },
   "outputs": [
    {
     "name": "stdout",
     "output_type": "stream",
     "text": [
      "Traceback (most recent call last):\n",
      "  File \"/notebooks/Abnormal_detection/MemaeModel/script_testing.py\", line 20, in <module>\n",
      "    from piqa import SSIM\n",
      "ModuleNotFoundError: No module named 'piqa'\n"
     ]
    }
   ],
   "source": [
    "!python script_testing.py --ModelName ssmctb #--Test True"
   ]
  },
  {
   "cell_type": "code",
   "execution_count": 6,
   "metadata": {
    "execution": {
     "iopub.execute_input": "2022-11-05T01:57:50.678148Z",
     "iopub.status.busy": "2022-11-05T01:57:50.677929Z",
     "iopub.status.idle": "2022-11-05T01:57:50.681847Z",
     "shell.execute_reply": "2022-11-05T01:57:50.681115Z",
     "shell.execute_reply.started": "2022-11-05T01:57:50.678125Z"
    },
    "id": "Vyy-Tsbc5iwf"
   },
   "outputs": [],
   "source": [
    "#tensorboard --logdir=/notebooks/Abnormal_detection/MemaeModel/log  --bind_all"
   ]
  }
 ],
 "metadata": {
  "accelerator": "GPU",
  "colab": {
   "authorship_tag": "ABX9TyMTvtr2ZpqP96ACiwReDsgg",
   "collapsed_sections": [],
   "name": "",
   "version": ""
  },
  "gpuClass": "premium",
  "kernelspec": {
   "display_name": "Python 3 (ipykernel)",
   "language": "python",
   "name": "python3"
  },
  "language_info": {
   "codemirror_mode": {
    "name": "ipython",
    "version": 3
   },
   "file_extension": ".py",
   "mimetype": "text/x-python",
   "name": "python",
   "nbconvert_exporter": "python",
   "pygments_lexer": "ipython3",
   "version": "3.9.13"
  }
 },
 "nbformat": 4,
 "nbformat_minor": 4
}
